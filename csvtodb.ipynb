{
 "cells": [
  {
   "cell_type": "code",
   "execution_count": 2,
   "metadata": {},
   "outputs": [],
   "source": [
    "# !pip install pysqlite3\n"
   ]
  },
  {
   "cell_type": "code",
   "execution_count": 2,
   "metadata": {},
   "outputs": [],
   "source": [
    "import sqlite3\n",
    "import pandas as pd"
   ]
  },
  {
   "cell_type": "code",
   "execution_count": 3,
   "metadata": {},
   "outputs": [
    {
     "data": {
      "text/html": [
       "<div>\n",
       "<style scoped>\n",
       "    .dataframe tbody tr th:only-of-type {\n",
       "        vertical-align: middle;\n",
       "    }\n",
       "\n",
       "    .dataframe tbody tr th {\n",
       "        vertical-align: top;\n",
       "    }\n",
       "\n",
       "    .dataframe thead th {\n",
       "        text-align: right;\n",
       "    }\n",
       "</style>\n",
       "<table border=\"1\" class=\"dataframe\">\n",
       "  <thead>\n",
       "    <tr style=\"text-align: right;\">\n",
       "      <th></th>\n",
       "      <th>Unnamed: 0</th>\n",
       "      <th>book_name</th>\n",
       "      <th>publisher</th>\n",
       "      <th>author</th>\n",
       "      <th>publication_date</th>\n",
       "      <th>pages</th>\n",
       "      <th>isbn</th>\n",
       "      <th>description</th>\n",
       "      <th>link</th>\n",
       "    </tr>\n",
       "  </thead>\n",
       "  <tbody>\n",
       "    <tr>\n",
       "      <th>0</th>\n",
       "      <td>1</td>\n",
       "      <td>주니어를 위한 최선의 코딩 학습 똑똑한 파이썬</td>\n",
       "      <td>코딩스쿨(인포앤북)</td>\n",
       "      <td>황재호/황예린</td>\n",
       "      <td>2019-07-01</td>\n",
       "      <td>240</td>\n",
       "      <td>9.790000e+12</td>\n",
       "      <td>주니어의 코딩 학습을 위한 최상의 파이썬 학습서\\n초등학교에서 스크래치, 엔트리 등...</td>\n",
       "      <td>http://codingschool.info/book/index.php?book=s...</td>\n",
       "    </tr>\n",
       "  </tbody>\n",
       "</table>\n",
       "</div>"
      ],
      "text/plain": [
       "   Unnamed: 0                  book_name   publisher   author  \\\n",
       "0           1  주니어를 위한 최선의 코딩 학습 똑똑한 파이썬  코딩스쿨(인포앤북)  황재호/황예린   \n",
       "\n",
       "  publication_date  pages          isbn  \\\n",
       "0       2019-07-01    240  9.790000e+12   \n",
       "\n",
       "                                         description  \\\n",
       "0  주니어의 코딩 학습을 위한 최상의 파이썬 학습서\\n초등학교에서 스크래치, 엔트리 등...   \n",
       "\n",
       "                                                link  \n",
       "0  http://codingschool.info/book/index.php?book=s...  "
      ]
     },
     "execution_count": 3,
     "metadata": {},
     "output_type": "execute_result"
    }
   ],
   "source": [
    "data = pd.read_csv('엘리스 도서관 책 정보 리스트.csv', header=0)\n",
    "data.head(1)"
   ]
  },
  {
   "cell_type": "code",
   "execution_count": 7,
   "metadata": {},
   "outputs": [
    {
     "name": "stdout",
     "output_type": "stream",
     "text": [
      "주니어의 코딩 학습을 위한 최상의 파이썬 학습서\n",
      "초등학교에서 스크래치, 엔트리 등의 블록코딩으로 알고리즘의 기초를 배우고 난 후 글자로 된 텍스트 코딩 단계에 들어가면 아이들이 어려워하게 된다. 이 책은 동물 일러스트를 활용하고 쉽고 재미있는 예제들을 많이 수록하여 아이들이 혼자서 재미있게 코딩을 공부할 수 있도록 하였다. 또한 이 책은 파이썬 코딩과 알고리즘에 대한 기초 지식이 없는 초등학교 고학년생과 중학생들을 대상으로 한 코딩 및 알고리즘 수업의 교재로 활용하기 적합하게 집필되었다.\n"
     ]
    }
   ],
   "source": [
    "for i in data['description'][0].split('\\n'):\n",
    "    print(i)"
   ]
  },
  {
   "cell_type": "code",
   "execution_count": null,
   "metadata": {},
   "outputs": [],
   "source": []
  },
  {
   "cell_type": "code",
   "execution_count": 6,
   "metadata": {},
   "outputs": [
    {
     "data": {
      "text/plain": [
       "32"
      ]
     },
     "execution_count": 6,
     "metadata": {},
     "output_type": "execute_result"
    }
   ],
   "source": [
    "len(data)"
   ]
  },
  {
   "cell_type": "code",
   "execution_count": 8,
   "metadata": {},
   "outputs": [
    {
     "name": "stderr",
     "output_type": "stream",
     "text": [
      "<ipython-input-8-f550d12c0f89>:6: SettingWithCopyWarning: \n",
      "A value is trying to be set on a copy of a slice from a DataFrame\n",
      "\n",
      "See the caveats in the documentation: https://pandas.pydata.org/pandas-docs/stable/user_guide/indexing.html#returning-a-view-versus-a-copy\n",
      "  data[\"img_path\"][i-1] = f\"/image/{i}.png\"\n",
      "<ipython-input-8-f550d12c0f89>:8: SettingWithCopyWarning: \n",
      "A value is trying to be set on a copy of a slice from a DataFrame\n",
      "\n",
      "See the caveats in the documentation: https://pandas.pydata.org/pandas-docs/stable/user_guide/indexing.html#returning-a-view-versus-a-copy\n",
      "  data[\"img_path\"][i-1] = f\"/image/{i}.jpg\"\n"
     ]
    }
   ],
   "source": [
    "import os\n",
    "data['img_path']='temp'\n",
    "for i in range(1,len(data)+1):\n",
    "    file = os.path.isfile(f\"./static/image/{i}.png\")\n",
    "    if file:\n",
    "        data[\"img_path\"][i-1] = f\"/image/{i}.png\"\n",
    "    else:\n",
    "        data[\"img_path\"][i-1] = f\"/image/{i}.jpg\"\n"
   ]
  },
  {
   "cell_type": "code",
   "execution_count": 9,
   "metadata": {},
   "outputs": [
    {
     "data": {
      "text/html": [
       "<div>\n",
       "<style scoped>\n",
       "    .dataframe tbody tr th:only-of-type {\n",
       "        vertical-align: middle;\n",
       "    }\n",
       "\n",
       "    .dataframe tbody tr th {\n",
       "        vertical-align: top;\n",
       "    }\n",
       "\n",
       "    .dataframe thead th {\n",
       "        text-align: right;\n",
       "    }\n",
       "</style>\n",
       "<table border=\"1\" class=\"dataframe\">\n",
       "  <thead>\n",
       "    <tr style=\"text-align: right;\">\n",
       "      <th></th>\n",
       "      <th>Unnamed: 0</th>\n",
       "      <th>book_name</th>\n",
       "      <th>publisher</th>\n",
       "      <th>author</th>\n",
       "      <th>publication_date</th>\n",
       "      <th>pages</th>\n",
       "      <th>isbn</th>\n",
       "      <th>description</th>\n",
       "      <th>link</th>\n",
       "      <th>img_path</th>\n",
       "    </tr>\n",
       "  </thead>\n",
       "  <tbody>\n",
       "    <tr>\n",
       "      <th>0</th>\n",
       "      <td>1</td>\n",
       "      <td>주니어를 위한 최선의 코딩 학습 똑똑한 파이썬</td>\n",
       "      <td>코딩스쿨(인포앤북)</td>\n",
       "      <td>황재호/황예린</td>\n",
       "      <td>2019-07-01</td>\n",
       "      <td>240</td>\n",
       "      <td>9.790000e+12</td>\n",
       "      <td>주니어의 코딩 학습을 위한 최상의 파이썬 학습서\\n초등학교에서 스크래치, 엔트리 등...</td>\n",
       "      <td>http://codingschool.info/book/index.php?book=s...</td>\n",
       "      <td>/image/1.png</td>\n",
       "    </tr>\n",
       "    <tr>\n",
       "      <th>1</th>\n",
       "      <td>2</td>\n",
       "      <td>Do it! C언어 입문</td>\n",
       "      <td>이지스퍼블리싱</td>\n",
       "      <td>김성엽</td>\n",
       "      <td>2017-01-10</td>\n",
       "      <td>576</td>\n",
       "      <td>9.790000e+12</td>\n",
       "      <td>‘왜’ 쓰는지 모르면 의미 없다! 두 번 삽질하지 않게 도와주는 입문서!\\n\\n실무...</td>\n",
       "      <td>http://www.easyspub.co.kr/20_Menu/BookView/122...</td>\n",
       "      <td>/image/2.png</td>\n",
       "    </tr>\n",
       "    <tr>\n",
       "      <th>2</th>\n",
       "      <td>3</td>\n",
       "      <td>Do it! 쉽게 배우는 R 데이터 분석</td>\n",
       "      <td>이지스퍼블리싱</td>\n",
       "      <td>김영우</td>\n",
       "      <td>2017-07-20</td>\n",
       "      <td>376</td>\n",
       "      <td>9.790000e+12</td>\n",
       "      <td>통계, 프로그래밍을 1도 몰라도 데이터를 혼자서 다룰 수 있다!\\n\\n데이터 분석 ...</td>\n",
       "      <td>http://www.easyspub.co.kr/20_Menu/BookView/138...</td>\n",
       "      <td>/image/3.png</td>\n",
       "    </tr>\n",
       "    <tr>\n",
       "      <th>3</th>\n",
       "      <td>4</td>\n",
       "      <td>Do it! 딥러닝 입문</td>\n",
       "      <td>이지스퍼블리싱</td>\n",
       "      <td>박해선</td>\n",
       "      <td>2019-09-20</td>\n",
       "      <td>328</td>\n",
       "      <td>9.790000e+12</td>\n",
       "      <td>정직하게 코딩하며\\n\\n딥러닝을 빠르게 정면 돌파하자!\\n\\n \\n\\n이 책은 어설...</td>\n",
       "      <td>http://www.easyspub.co.kr/20_Menu/BookView/325...</td>\n",
       "      <td>/image/4.jpg</td>\n",
       "    </tr>\n",
       "    <tr>\n",
       "      <th>4</th>\n",
       "      <td>5</td>\n",
       "      <td>Do it! 리액트 프로그래밍 정석</td>\n",
       "      <td>이지스퍼블리싱</td>\n",
       "      <td>박호준</td>\n",
       "      <td>2020-02-07</td>\n",
       "      <td>656</td>\n",
       "      <td>9.790000e+12</td>\n",
       "      <td>실리콘밸리 리액트 클래스를 그대로 담았다!\\n에어비앤비 프런트엔드 리드에게 배우는 ...</td>\n",
       "      <td>http://www.easyspub.co.kr/20_Menu/BookView/355...</td>\n",
       "      <td>/image/5.jpg</td>\n",
       "    </tr>\n",
       "  </tbody>\n",
       "</table>\n",
       "</div>"
      ],
      "text/plain": [
       "   Unnamed: 0                  book_name   publisher   author  \\\n",
       "0           1  주니어를 위한 최선의 코딩 학습 똑똑한 파이썬  코딩스쿨(인포앤북)  황재호/황예린   \n",
       "1           2              Do it! C언어 입문     이지스퍼블리싱      김성엽   \n",
       "2           3     Do it! 쉽게 배우는 R 데이터 분석     이지스퍼블리싱      김영우   \n",
       "3           4              Do it! 딥러닝 입문     이지스퍼블리싱      박해선   \n",
       "4           5        Do it! 리액트 프로그래밍 정석     이지스퍼블리싱      박호준   \n",
       "\n",
       "  publication_date  pages          isbn  \\\n",
       "0       2019-07-01    240  9.790000e+12   \n",
       "1       2017-01-10    576  9.790000e+12   \n",
       "2       2017-07-20    376  9.790000e+12   \n",
       "3       2019-09-20    328  9.790000e+12   \n",
       "4       2020-02-07    656  9.790000e+12   \n",
       "\n",
       "                                         description  \\\n",
       "0  주니어의 코딩 학습을 위한 최상의 파이썬 학습서\\n초등학교에서 스크래치, 엔트리 등...   \n",
       "1  ‘왜’ 쓰는지 모르면 의미 없다! 두 번 삽질하지 않게 도와주는 입문서!\\n\\n실무...   \n",
       "2  통계, 프로그래밍을 1도 몰라도 데이터를 혼자서 다룰 수 있다!\\n\\n데이터 분석 ...   \n",
       "3  정직하게 코딩하며\\n\\n딥러닝을 빠르게 정면 돌파하자!\\n\\n \\n\\n이 책은 어설...   \n",
       "4  실리콘밸리 리액트 클래스를 그대로 담았다!\\n에어비앤비 프런트엔드 리드에게 배우는 ...   \n",
       "\n",
       "                                                link      img_path  \n",
       "0  http://codingschool.info/book/index.php?book=s...  /image/1.png  \n",
       "1  http://www.easyspub.co.kr/20_Menu/BookView/122...  /image/2.png  \n",
       "2  http://www.easyspub.co.kr/20_Menu/BookView/138...  /image/3.png  \n",
       "3  http://www.easyspub.co.kr/20_Menu/BookView/325...  /image/4.jpg  \n",
       "4  http://www.easyspub.co.kr/20_Menu/BookView/355...  /image/5.jpg  "
      ]
     },
     "execution_count": 9,
     "metadata": {},
     "output_type": "execute_result"
    }
   ],
   "source": [
    "data.head()"
   ]
  },
  {
   "cell_type": "code",
   "execution_count": null,
   "metadata": {},
   "outputs": [],
   "source": []
  },
  {
   "cell_type": "code",
   "execution_count": 10,
   "metadata": {},
   "outputs": [],
   "source": [
    "con = sqlite3.connect('library.db')\n",
    "cur = con.cursor()"
   ]
  },
  {
   "cell_type": "code",
   "execution_count": 11,
   "metadata": {},
   "outputs": [
    {
     "data": {
      "text/html": [
       "<div>\n",
       "<style scoped>\n",
       "    .dataframe tbody tr th:only-of-type {\n",
       "        vertical-align: middle;\n",
       "    }\n",
       "\n",
       "    .dataframe tbody tr th {\n",
       "        vertical-align: top;\n",
       "    }\n",
       "\n",
       "    .dataframe thead th {\n",
       "        text-align: right;\n",
       "    }\n",
       "</style>\n",
       "<table border=\"1\" class=\"dataframe\">\n",
       "  <thead>\n",
       "    <tr style=\"text-align: right;\">\n",
       "      <th></th>\n",
       "      <th>Unnamed: 0</th>\n",
       "      <th>book_name</th>\n",
       "      <th>publisher</th>\n",
       "      <th>author</th>\n",
       "      <th>publication_date</th>\n",
       "      <th>pages</th>\n",
       "      <th>isbn</th>\n",
       "      <th>description</th>\n",
       "      <th>link</th>\n",
       "      <th>img_path</th>\n",
       "    </tr>\n",
       "  </thead>\n",
       "  <tbody>\n",
       "    <tr>\n",
       "      <th>0</th>\n",
       "      <td>1</td>\n",
       "      <td>주니어를 위한 최선의 코딩 학습 똑똑한 파이썬</td>\n",
       "      <td>코딩스쿨(인포앤북)</td>\n",
       "      <td>황재호/황예린</td>\n",
       "      <td>2019-07-01</td>\n",
       "      <td>240</td>\n",
       "      <td>9.790000e+12</td>\n",
       "      <td>주니어의 코딩 학습을 위한 최상의 파이썬 학습서\\n초등학교에서 스크래치, 엔트리 등...</td>\n",
       "      <td>http://codingschool.info/book/index.php?book=s...</td>\n",
       "      <td>/image/1.png</td>\n",
       "    </tr>\n",
       "  </tbody>\n",
       "</table>\n",
       "</div>"
      ],
      "text/plain": [
       "   Unnamed: 0                  book_name   publisher   author  \\\n",
       "0           1  주니어를 위한 최선의 코딩 학습 똑똑한 파이썬  코딩스쿨(인포앤북)  황재호/황예린   \n",
       "\n",
       "  publication_date  pages          isbn  \\\n",
       "0       2019-07-01    240  9.790000e+12   \n",
       "\n",
       "                                         description  \\\n",
       "0  주니어의 코딩 학습을 위한 최상의 파이썬 학습서\\n초등학교에서 스크래치, 엔트리 등...   \n",
       "\n",
       "                                                link      img_path  \n",
       "0  http://codingschool.info/book/index.php?book=s...  /image/1.png  "
      ]
     },
     "execution_count": 11,
     "metadata": {},
     "output_type": "execute_result"
    }
   ],
   "source": [
    "data.head(1)\n",
    "# data['Unnamed: 0']"
   ]
  },
  {
   "cell_type": "code",
   "execution_count": 12,
   "metadata": {},
   "outputs": [],
   "source": [
    "for index, row in data.iterrows():\n",
    "    data1 = (row['Unnamed: 0'], row['book_name'], row['publisher'], row['author'], row['publication_date'], row['pages'], row['isbn'], row['description'], row['link'], 5, 0, row['img_path'])\n",
    "    # print(data1)\n",
    "    cur.execute(\"INSERT INTO Book_info VALUES (?,?,?,?,?,?,?,?,?,?,?,?)\",data1)"
   ]
  },
  {
   "cell_type": "code",
   "execution_count": 13,
   "metadata": {},
   "outputs": [],
   "source": [
    "con.commit()\n",
    "con.close()"
   ]
  },
  {
   "cell_type": "code",
   "execution_count": 1,
   "metadata": {},
   "outputs": [
    {
     "ename": "NameError",
     "evalue": "name 'data' is not defined",
     "output_type": "error",
     "traceback": [
      "\u001b[1;31m---------------------------------------------------------------------------\u001b[0m",
      "\u001b[1;31mNameError\u001b[0m                                 Traceback (most recent call last)",
      "\u001b[1;32m<ipython-input-1-80a4aab09c73>\u001b[0m in \u001b[0;36m<module>\u001b[1;34m\u001b[0m\n\u001b[1;32m----> 1\u001b[1;33m \u001b[0mdata\u001b[0m\u001b[1;33m[\u001b[0m\u001b[1;36m0\u001b[0m\u001b[1;33m]\u001b[0m\u001b[1;33m\u001b[0m\u001b[1;33m\u001b[0m\u001b[0m\n\u001b[0m",
      "\u001b[1;31mNameError\u001b[0m: name 'data' is not defined"
     ]
    }
   ],
   "source": [
    "data[0]"
   ]
  },
  {
   "cell_type": "code",
   "execution_count": null,
   "metadata": {},
   "outputs": [],
   "source": []
  }
 ],
 "metadata": {
  "interpreter": {
   "hash": "8b6a6dc609eea97e666bb46ee15974ec20ac95577b7c09c39f0b60174a7e7e8d"
  },
  "kernelspec": {
   "display_name": "Python 3.8.5 64-bit ('base': conda)",
   "language": "python",
   "name": "python3"
  },
  "language_info": {
   "codemirror_mode": {
    "name": "ipython",
    "version": 3
   },
   "file_extension": ".py",
   "mimetype": "text/x-python",
   "name": "python",
   "nbconvert_exporter": "python",
   "pygments_lexer": "ipython3",
   "version": "3.8.5"
  },
  "orig_nbformat": 4
 },
 "nbformat": 4,
 "nbformat_minor": 2
}
